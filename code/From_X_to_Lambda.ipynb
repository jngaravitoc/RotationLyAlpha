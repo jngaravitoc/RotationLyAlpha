{
 "metadata": {
  "name": "From_X_to_Lambda"
 },
 "nbformat": 3,
 "nbformat_minor": 0,
 "worksheets": [
  {
   "cells": [
    {
     "cell_type": "code",
     "collapsed": false,
     "input": [
      "from numpy import * \n",
      "from pylab import *\n",
      "import numpy as np\n",
      "import math\n",
      "import matplotlib.pyplot as plt\n"
     ],
     "language": "python",
     "metadata": {},
     "outputs": [],
     "prompt_number": 57
    },
    {
     "cell_type": "code",
     "collapsed": false,
     "input": [
      "#V = [str(0), str(50), str(100), str(200), str(300)]\n",
      "\n",
      "#Homogeneous \n",
      "\n",
      "data_5t0 = np.loadtxt(\"../data/Homogeneous_Histograms/HistogramRotating0Sphere5tHOM.ascii\")\n",
      "x_5t0 = data_5t0[:,0]\n",
      "hist_5t0 = data_5t0[:,1]\n",
      "\n",
      "print len(hist_5t0), len(x_5t0)\n"
     ],
     "language": "python",
     "metadata": {},
     "outputs": [
      {
       "output_type": "stream",
       "stream": "stdout",
       "text": [
        "48 48\n"
       ]
      }
     ],
     "prompt_number": 49
    },
    {
     "cell_type": "code",
     "collapsed": false,
     "input": [
      "T = 10000   # Temperatura del gas (K)\n",
      "\n",
      "K = 1.3806504*10**(-23.0) # Boltzman Constant, Put real number (J/ K)\n",
      "\n",
      "u =  1.660538921*10**(-27.0) \n",
      "\n",
      "m_H = 1.007825*u # Hydrogen atom mass, Pt real number (kg)\n",
      "\n",
      "#c = 3.0*10**8 #m/s\n",
      "\n",
      "v_p = np.sqrt((2.0*K)/ m_H)*np.sqrt(T)\n",
      "\n",
      "v_p_km = v_p / 1000.0\n",
      "\n",
      "print v_p # Concistente con el valor Verhamme et al 2009. check que estoy en metros / s y ella en km/s\n",
      "print v_p_km"
     ],
     "language": "python",
     "metadata": {},
     "outputs": [
      {
       "output_type": "stream",
       "stream": "stdout",
       "text": [
        "12845.1673301\n",
        "12.8451673301\n"
       ]
      }
     ],
     "prompt_number": 52
    },
    {
     "cell_type": "code",
     "collapsed": false,
     "input": [
      "nu_alpha = 2.466*10**15\n",
      "\n",
      "delta_nu_alpha = nu_alpha * np.sqrt(2*K*T/(m_H*(c**2)))   # Units K * (J / K) / Kg *(km/s)**2\n",
      "\n",
      "#x = (nu - nu_alpha) / delta_nu_alpha\n",
      "\n",
      "nu_5t0 = (x_5t0 * delta_nu_alpha) + nu_alpha\n",
      "ly_alpha_5t0 = (c / nu_5t0) *10**10 \n",
      "ly_alpha_5t0 = double(ly_alpha_5t0)\n",
      "\n",
      "\n",
      "f = open('../data/Homogeneous_Histograms_Lambda/Histograms_in_Lambda', 'w')\n",
      "for i in range(len(ly_alpha_5t0)):\n",
      "    f.write(str(ly_alpha_5t0[i]) + \"  \" + str(x_5t0[i]) + \"\\n\")\n",
      "f.close()\n",
      "\n",
      "\n",
      "#print nu, ly_alpha\n",
      "\n",
      "#figure(num=None, figsize=(9.5,9))\n",
      "\n",
      "#plot(ly_alpha_5t0, hist_5t0)\n",
      "#xlim([1215, 1218])\n",
      "#show()"
     ],
     "language": "python",
     "metadata": {},
     "outputs": [
      {
       "output_type": "pyout",
       "prompt_number": 31,
       "text": [
        "[<matplotlib.lines.Line2D at 0x4091310>]"
       ]
      },
      {
       "output_type": "display_data",
       "png": "[encoded data removed]"
      }
     ],
     "prompt_number": 31
    },
    {
     "cell_type": "code",
     "collapsed": false,
     "input": [
      "# From X to V\n",
      "V = - x_5t0*v_p_km\n",
      "\n",
      "plt.plot(V, hist_5t0)\n",
      "plt.title('V = 0, 5t hom')\n",
      "plt.show()\n",
      "#print V"
     ],
     "language": "python",
     "metadata": {},
     "outputs": [],
     "prompt_number": 62
    },
    {
     "cell_type": "code",
     "collapsed": false,
     "input": [],
     "language": "python",
     "metadata": {},
     "outputs": []
    }
   ],
   "metadata": {}
  }
 ]
}