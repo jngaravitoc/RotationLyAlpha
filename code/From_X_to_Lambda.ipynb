{
 "metadata": {
  "name": "From_X_to_Lambda"
 },
 "nbformat": 3,
 "nbformat_minor": 0,
 "worksheets": [
  {
   "cells": [
    {
     "cell_type": "code",
     "collapsed": false,
     "input": [
      "import matplotlib as plt\n",
      "import numpy as np \n"
     ],
     "language": "python",
     "metadata": {},
     "outputs": [],
     "prompt_number": 80
    },
    {
     "cell_type": "code",
     "collapsed": false,
     "input": [
      "#V = [str(0), str(50), str(100), str(200), str(300)]\n",
      "\n",
      "#Homogeneous \n",
      "\n",
      "data_5t0 = np.loadtxt(\"../data/Homogeneous_Histograms/HistogramRotating0Sphere5tHOM.ascii\")\n",
      "x_5t0 = data[:,0]\n",
      "hist_5t0 = data[:,1]\n",
      "\n",
      "print len(hist_5t0), len(x_5t0)\n"
     ],
     "language": "python",
     "metadata": {},
     "outputs": [
      {
       "output_type": "stream",
       "stream": "stdout",
       "text": [
        "68 68\n"
       ]
      }
     ],
     "prompt_number": 81
    },
    {
     "cell_type": "code",
     "collapsed": false,
     "input": [
      "T = 10**4   # Temperatura del gas (K)\n",
      "\n",
      "K = 6.23*10**(-23.0) # Boltzman Constant, Put real number (J/ K)\n",
      "\n",
      "u =  1.660538921*10**(-27.0) \n",
      "\n",
      "m_H = 1.007825*u # Hydrogen atom mass, Pt real number (kg)\n",
      "\n",
      "c = 3*10**8 #m/s\n",
      "\n",
      "v_p = np.sqrt(2*K*T / m_H)\n",
      "\n",
      "print v_p# Concistente con el valor Verhamme et al 2009."
     ],
     "language": "python",
     "metadata": {},
     "outputs": [
      {
       "output_type": "stream",
       "stream": "stdout",
       "text": [
        "27286.128991\n"
       ]
      }
     ],
     "prompt_number": 82
    },
    {
     "cell_type": "code",
     "collapsed": false,
     "input": [
      "nu_alpha = 2.466*10**15\n",
      "\n",
      "delta_nu_alpha = nu_alpha * np.sqrt(2*K*T/(m_H*(c**2)))   # Units K * (J / K) / Kg *(km/s)**2\n",
      "\n",
      "#x = (nu - nu_alpha) / delta_nu_alpha\n",
      "\n",
      "nu_5t0 = (x_5t0 * delta_nu_alpha) + nu_alpha\n",
      "ly_alpha_5t0 = (c / nu_5t0) *10**10 \n",
      "print ly_alpha_5t0, x_5t0\n",
      "\n",
      "#print nu, ly_alpha\n",
      "\n",
      "plot(ly_alpha_5t0, hist_5t0)\n",
      "#show()"
     ],
     "language": "python",
     "metadata": {},
     "outputs": [
      {
       "output_type": "stream",
       "stream": "stdout",
       "text": [
        "[ 1218.38081638  1218.32532714  1218.26984295  1218.21436381  1218.15888972\n",
        "  1218.10342069  1218.04795671  1217.99249778  1217.9370439   1217.88159506\n",
        "  1217.82615128  1217.77071255  1217.71527886  1217.65985022  1217.60442662\n",
        "  1217.54900807  1217.49359456  1217.4381861   1217.38278268  1217.3273843\n",
        "  1217.27199097  1217.21660267  1217.16121942  1217.10584121  1217.05046803\n",
        "  1216.99509989  1216.93973679  1216.88437873  1216.8290257   1216.77367771\n",
        "  1216.71833476  1216.66299683  1216.60766395  1216.55233609  1216.49701327\n",
        "  1216.44169547  1216.38638271  1216.33107498  1216.27577228  1216.2204746\n",
        "  1216.16518196  1216.10989434  1216.05461175  1215.99933418  1215.94406164\n",
        "  1215.88879413  1215.83353163  1215.77827416  1215.72302172  1215.66777429\n",
        "  1215.61253189  1215.55729451  1215.50206214  1215.4468348   1215.39161247\n",
        "  1215.33639516  1215.28118287  1215.2259756   1215.17077334  1215.11557609\n",
        "  1215.06038386  1215.00519664  1214.95001444  1214.89483725  1214.83966507\n",
        "  1214.7844979   1214.72933574  1214.67417859] [-16.56619 -16.06619 -15.56619 -15.06619 -14.56619 -14.06619 -13.56619\n",
        " -13.06619 -12.56619 -12.06619 -11.56619 -11.06619 -10.56619 -10.06619\n",
        "  -9.56619  -9.06619  -8.56619  -8.06619  -7.56619  -7.06619  -6.56619\n",
        "  -6.06619  -5.56619  -5.06619  -4.56619  -4.06619  -3.56619  -3.06619\n",
        "  -2.56619  -2.06619  -1.56619  -1.06619  -0.56619  -0.06619   0.43381\n",
        "   0.93381   1.43381   1.93381   2.43381   2.93381   3.43381   3.93381\n",
        "   4.43381   4.93381   5.43381   5.93381   6.43381   6.93381   7.43381\n",
        "   7.93381   8.43381   8.93381   9.43381   9.93381  10.43381  10.93381\n",
        "  11.43381  11.93381  12.43381  12.93381  13.43381  13.93381  14.43381\n",
        "  14.93381  15.43381  15.93381  16.43381  16.93381]\n"
       ]
      },
      {
       "output_type": "pyout",
       "prompt_number": 83,
       "text": [
        "[<matplotlib.lines.Line2D at 0x7a270d0>]"
       ]
      }
     ],
     "prompt_number": 83
    },
    {
     "cell_type": "code",
     "collapsed": false,
     "input": [],
     "language": "python",
     "metadata": {},
     "outputs": []
    }
   ],
   "metadata": {}
  }
 ]
}