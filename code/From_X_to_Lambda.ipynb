{
 "metadata": {
  "name": "From_X_to_Lambda"
 },
 "nbformat": 3,
 "nbformat_minor": 0,
 "worksheets": [
  {
   "cells": [
    {
     "cell_type": "code",
     "collapsed": false,
     "input": [
      "import matplotlib as plt\n",
      "import numpy as np \n"
     ],
     "language": "python",
     "metadata": {},
     "outputs": [],
     "prompt_number": 1
    },
    {
     "cell_type": "code",
     "collapsed": false,
     "input": [
      "data = np.loadtxt('../data/Homogeneous_Histograms/HistogramRotating0Sphere5tHOM.ascii')\n",
      "\n",
      "x = data[:,1]\n",
      "\n",
      "print x"
     ],
     "language": "python",
     "metadata": {},
     "outputs": [
      {
       "output_type": "stream",
       "stream": "stdout",
       "text": [
        "[  1.40000000e-04   4.00000000e-05   2.60000000e-04   4.20000000e-04\n",
        "   9.20000000e-04   1.64100000e-03   3.12100000e-03   5.76200000e-03\n",
        "   1.02030000e-02   1.69460000e-02   3.01300000e-02   4.40150000e-02\n",
        "   6.73420000e-02   9.20100000e-02   1.16779000e-01   1.24601000e-01\n",
        "   1.10136000e-01   9.12300000e-02   7.81860000e-02   6.42210000e-02\n",
        "   5.56580000e-02   5.36980000e-02   5.01170000e-02   5.04170000e-02\n",
        "   5.38980000e-02   6.10000000e-02   7.16840000e-02   8.82290000e-02\n",
        "   1.02794000e-01   1.20660000e-01   1.20860000e-01   1.01273000e-01\n",
        "   7.57650000e-02   5.31180000e-02   3.47510000e-02   2.07270000e-02\n",
        "   1.23040000e-02   6.98200000e-03   3.70100000e-03   1.98100000e-03\n",
        "   1.06000000e-03   6.20000000e-04   2.40000000e-04   1.80000000e-04\n",
        "   1.20000000e-04   4.00000000e-05   2.00000000e-05   0.00000000e+00]\n"
       ]
      }
     ],
     "prompt_number": 9
    },
    {
     "cell_type": "code",
     "collapsed": false,
     "input": [
      "T = 10**4   # Temperatura del gas\n",
      "\n",
      "K = 6.23**-23 # Boltzman Constant, Put real number\n",
      "\n",
      "m_H = 6.3 # Hydrogen atom mass, Pt real number\n",
      "\n",
      "c = 3*8 #m/s\n",
      "\n",
      "nu_p = sqrt((2 * K * T) / m_H)\n",
      "\n",
      "nu_0 = 1 / 1216.0\n",
      "\n",
      "delta_nu_D = (nu_p / c) * nu_0 # Doppler frecuency width"
     ],
     "language": "python",
     "metadata": {},
     "outputs": [],
     "prompt_number": 4
    },
    {
     "cell_type": "code",
     "collapsed": false,
     "input": [
      "nu_i = x * delta_nu_D + nu_0\n",
      "\n",
      "print nu_i"
     ],
     "language": "python",
     "metadata": {},
     "outputs": [
      {
       "output_type": "stream",
       "stream": "stdout",
       "text": [
        "[ 0.00082237  0.00082237  0.00082237  0.00082237  0.00082237  0.00082237\n",
        "  0.00082237  0.00082237  0.00082237  0.00082237  0.00082237  0.00082237\n",
        "  0.00082237  0.00082237  0.00082237  0.00082237  0.00082237  0.00082237\n",
        "  0.00082237  0.00082237  0.00082237  0.00082237  0.00082237  0.00082237\n",
        "  0.00082237  0.00082237  0.00082237  0.00082237  0.00082237  0.00082237\n",
        "  0.00082237  0.00082237  0.00082237  0.00082237  0.00082237  0.00082237\n",
        "  0.00082237  0.00082237  0.00082237  0.00082237  0.00082237  0.00082237\n",
        "  0.00082237  0.00082237  0.00082237  0.00082237  0.00082237  0.00082237]\n"
       ]
      }
     ],
     "prompt_number": 10
    },
    {
     "cell_type": "code",
     "collapsed": false,
     "input": [],
     "language": "python",
     "metadata": {},
     "outputs": []
    }
   ],
   "metadata": {}
  }
 ]
}