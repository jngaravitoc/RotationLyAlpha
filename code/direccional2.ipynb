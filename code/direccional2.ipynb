{
 "metadata": {
  "name": "direccional2"
 },
 "nbformat": 3,
 "nbformat_minor": 0,
 "worksheets": [
  {
   "cells": [
    {
     "cell_type": "code",
     "collapsed": false,
     "input": [
      "from numpy import *\n",
      "from pylab import *\n",
      "import numpy as np\n",
      "import math\n",
      "import matplotlib.pyplot as plt\n",
      "\n",
      "data_path = \"/home/Nicolas-Garavito/\"\n",
      "data_dir=\"Dropbox/PaperLymanRotation/data/OBSERVADORES/\"\n",
      "filename=\"Rotating300Sphere7tHOMDust.ascii\"\n",
      "\n",
      "datoslyman = np.loadtxt(data_path+data_dir+filename, comments = '#')\n",
      "\n",
      "initpos=datoslyman[:,0]\n",
      "index_clean = where(~np.isnan(initpos))\n",
      "datoslyman = datoslyman[index_clean[0],:]\n",
      "\n",
      "kx = datoslyman[:,3]\n",
      "ky = datoslyman[:,4]\n",
      "kz = datoslyman[:,5]\n",
      "x = datoslyman[:,6]\n",
      "scatt = datoslyman[:,7]\n",
      "\n",
      "index = np.where(scatt==0)\n",
      "\n",
      "x = x[index]\n",
      "kx = kx[index]\n",
      "ky = ky[index]\n",
      "kz = kz[index]\n",
      "scatt = scatt[index]\n",
      "\n",
      "norm = sqrt(kx**2 + ky**2 + kz**2)\n",
      "print kx.shape, ky.shape, kx[:]\n",
      "#plot(norm)\n",
      "print amin(norm), amax(norm)\n",
      "#scatter(kx,ky)\n",
      "\n",
      "\n",
      "\n",
      "    "
     ],
     "language": "python",
     "metadata": {},
     "outputs": [
      {
       "output_type": "stream",
       "stream": "stdout",
       "text": [
        "(28133,) (28133,) [ 0.2284834  -0.5959466  -0.02475149 ...,  0.2036018  -0.7466314   0.6127781 ]\n",
        "0.999999919254 1.00000008428\n"
       ]
      }
     ],
     "prompt_number": 9
    },
    {
     "cell_type": "code",
     "collapsed": false,
     "input": [
      "#theta = pi/2.0\n",
      "#o90 = array([0,sin(theta),cos(theta)])\n",
      "#theta = 2*pi/5\n",
      "#o72 = array([0, sin(theta), cos(theta)])\n",
      "#theta = pi/3.0\n",
      "#o60 = array([0, sin(theta), cos(theta)])\n",
      "#theta = 0.0\n",
      "#o0 = array([0,sin(theta),cos(theta)])\n",
      "#theta = pi/4.0\n",
      "#o45 = array([0, sin(theta), cos(theta)])\n",
      "#theta = pi/6.0\n",
      "#o30 = array([0, sin(theta), cos(theta)])\n",
      "#theta = pi/9\n",
      "#o20 = array([0, sin(theta), cos(theta)])\n",
      "#theta = pi/18\n",
      "#o10 = array([0, sin(theta), cos(theta)])\n",
      "\n",
      "#New angles to make cos theta equidistance in plots\n",
      "\n",
      "theta = pi/2.0\n",
      "o90 = array([0, sin(theta), cos(theta)])\n",
      "theta = pi/2.294\n",
      "o7846 = array([0, sin(theta), cos(theta)])\n",
      "theta = pi/2.71\n",
      "o6642 = array([0, sin(theta), cos(theta)])\n",
      "theta = pi/3.387\n",
      "o5313 = array([0, sin(theta), cos(theta)])\n",
      "theta = pi/4.882\n",
      "o3687 = array([0, sin(theta), cos(theta)])\n",
      "theta = 0.0\n",
      "o0= array([0, sin(theta), cos(theta)])"
     ],
     "language": "python",
     "metadata": {},
     "outputs": [],
     "prompt_number": 10
    },
    {
     "cell_type": "code",
     "collapsed": false,
     "input": [
      "##producto punto this s is defined as k\u00b7x and is used to give wight to the histogram and to estimate the Scape Fraction\n",
      "#s0 = abs(kx[:]*o0[0]+ky[:]*o0[1]+kz[:]*o0[2])\n",
      "#s10 = abs(kx[:]*o10[0]+ky[:]*o10[1]+kz[:]*o10[2])\n",
      "#s20 = abs(kx[:]*o20[0]+ky[:]*o20[1]+kz[:]*o20[2])\n",
      "#s30 = abs(kx[:]*o30[0]+ky[:]*o30[1]+kz[:]*o30[2])\n",
      "#s45 = abs(kx[:]*o45[0]+ky[:]*o45[1]+kz[:]*o45[2])\n",
      "#s60 = abs(kx[:]*o60[0]+ky[:]*o60[1]+kz[:]*o60[2])\n",
      "#s72 = abs(kx[:]*o72[0]+ky[:]*o72[1]+kz[:]*o72[2])\n",
      "#s90 = abs(kx[:]*o90[0]+ky[:]*o90[1]+kz[:]*o90[2])\n",
      "\n",
      "s0 = abs(kx[:]*o0[0]+ky[:]*o0[1]+kz[:]*o0[2])\n",
      "s3687 = abs(kx[:]*o3687[0]+ky[:]*o3687[1]+kz[:]*o3687[2])\n",
      "s5313 = abs(kx[:]*o5313[0]+ky[:]*o5313[1]+kz[:]*o5313[2])\n",
      "s6642 = abs(kx[:]*o6642[0]+ky[:]*o6642[1]+kz[:]*o6642[2])\n",
      "s7846 = abs(kx[:]*o7846[0]+ky[:]*o7846[1]+kz[:]*o7846[2])\n",
      "s90 = abs(kx[:]*o90[0]+ky[:]*o90[1]+kz[:]*o90[2])"
     ],
     "language": "python",
     "metadata": {},
     "outputs": [],
     "prompt_number": 3
    },
    {
     "cell_type": "code",
     "collapsed": false,
     "input": [
      "#Make histogram\n",
      "freqbin = arange(amin(x), amax(x), 1.0)\n",
      "#hist0, bin_edges0 = np.histogram(x, density=True, weights=s0,bins = freqbin)\n",
      "#hist10, bin_edges10 = np.histogram(x, density=True, weights=s10,bins = freqbin)\n",
      "#hist20, bin_edges20 = np.histogram(x, density=True, weights=s20,bins = freqbin)\n",
      "#hist30, bin_edges30 = np.histogram(x, density=True, weights=s30,bins = freqbin)\n",
      "#hist45, bin_edges45 = np.histogram(x, density=True, weights=s45,bins = freqbin)\n",
      "#hist60, bin_edges60 = np.histogram(x, density=True, weights=s60,bins = freqbin)\n",
      "#hist72, bin_edges72 = np.histogram(x, density=True, weights=s72,bins = freqbin)\n",
      "#hist90, bin_edges90 = np.histogram(x, density=True, weights=s90,bins = freqbin)\n",
      "\n",
      "hist0, bin_edges0 = np.histogram(x, density=True, weights=s0,bins = freqbin)\n",
      "hist3687, bin_edges3687 = np.histogram(x, density=True, weights=s3687,bins = freqbin)\n",
      "hist5313, bin_edges5313 = np.histogram(x, density=True, weights=s5313,bins = freqbin)\n",
      "hist6642, bin_edges6642 = np.histogram(x, density=True, weights=s6642,bins = freqbin)\n",
      "hist7846, bin_edges7846 = np.histogram(x, density=True, weights=s7846,bins = freqbin)\n",
      "hist90, bin_edges90 = np.histogram(x, density=True, weights=s90,bins = freqbin)"
     ],
     "language": "python",
     "metadata": {},
     "outputs": [],
     "prompt_number": 4
    },
    {
     "cell_type": "code",
     "collapsed": false,
     "input": [
      "#this cell makes de plots\n",
      "#p0, = plot(bin_edges0[1:]+1215.668,hist0)\n",
      "#p10, = plot(bin_edges10[1:],hist10)\n",
      "#p20, = plot(bin_edges20[1:],hist20)\n",
      "#p30, = plot(bin_edges30[1:],hist30)\n",
      "#p45, = plot(bin_edges45[1:]+1215.668,hist45)\n",
      "#p60, = plot(bin_edges60[1:],hist60)\n",
      "#p72, = plot(bin_edges72[1:],hist72)\n",
      "#p90, = plot(bin_edges90[1:]+1215.688,hist90)\n",
      "\n",
      "p0, = plot(bin_edges0[1:]+1215,hist0)\n",
      "p10, = plot(bin_edges5313[1:]+1215,hist5313)\n",
      "p20, = plot(bin_edges7846[1:]+1215,hist7846)\n",
      "\n",
      "\n",
      "#legend([p0, p45, p90], [\"0 Deg\", \"45 Deg\", \"90 Deg\"])\n",
      "#legend([p0, p10, p20, p30, p45, p60, p72, p90], [\"0 Deg\", \"10 Deg\", \"20 Deg\", \"30 Deg\", \"45 Deg\", \"60 Deg\", \"72 Deg\", \"90 Deg\"])\n",
      "plt.xlabel (r'$\\lambda(\\AA)$', fontsize=20)\n",
      "plt.ylabel ('Intensity (Arbitrary Units)', fontsize=20)\n",
      "plt.title(r\"Homogeneous, $V_{max}=300Kms^{-1}$,$\\tau_{H}=10^{7} $\",  fontsize=20)\n",
      "\n",
      "#savefig('Observers7tHOM.png')\n",
      "\n",
      "\n",
      "plt.show()\n"
     ],
     "language": "python",
     "metadata": {},
     "outputs": [
      {
       "output_type": "display_data",
       "png": "[encoded data removed]"
      }
     ],
     "prompt_number": 5
    },
    {
     "cell_type": "code",
     "collapsed": false,
     "input": [
      "#this cell is to write data\n",
      "out = open(\"Obs0Rotating300Sphere7t.ascii\", 'w')\n",
      "n_points = np.size(hist0)\n",
      "\n",
      "for i in range(n_points):\n",
      "    out.write(\"%f %f\\n\" % (hist0[i], bin_edges0[i]))\n",
      "out.close()\n",
      "\n",
      "out = open(\"Obs3687Rotating300Sphere7t.ascii\", 'w')\n",
      "n_points = np.size(hist3687)\n",
      "\n",
      "for i in range(n_points):\n",
      "    out.write(\"%f %f\\n\" % (hist3687[i], bin_edges3687[i]))\n",
      "out.close()\n",
      "\n",
      "out = open(\"Obs5313Rotating300Sphere7t.ascii\", 'w')\n",
      "n_points = np.size(hist5313)\n",
      "\n",
      "for i in range(n_points):\n",
      "    out.write(\"%f %f\\n\" % (hist5313[i], bin_edges5313[i]))\n",
      "out.close()\n",
      "\n",
      "out = open(\"Obs6642Rotating300Sphere7t.ascii\", 'w')\n",
      "n_points = np.size(hist6642)\n",
      "\n",
      "for i in range(n_points):\n",
      "   out.write(\"%f %f\\n\" % (hist6642[i], bin_edges6642[i]))\n",
      "out.close()\n",
      "    \n",
      "out = open(\"Obs7846Rotating300Sphere7t.ascii\", 'w')\n",
      "n_points = np.size(hist7846)\n",
      "\n",
      "for i in range(n_points):\n",
      "    out.write(\"%f %f \\n\" % (hist7846[i], bin_edges7846[i]))\n",
      "out.close()\n",
      "       \n",
      "out = open(\"Obs90Rotating300Sphere7t.ascii\", 'w')\n",
      "n_points = np.size(hist90)\n",
      "\n",
      "for i in range(n_points):\n",
      "    out.write(\"%f %f \\n\" % (hist90[i], bin_edges90[i]))\n",
      "out.close()\n",
      "\n",
      "#out = open(\"Obs72Rotating200Sphere6tHOM.ascii\", 'w')\n",
      "#n_points = np.size(hist72)\n",
      "\n",
      "#for i in range(n_points):\n",
      "#    out.write(\"%f %f %f %f\\n\" % (hist72[i], bin_edges72[i], s72[i], scatt[i]))\n",
      "#out.close()\n",
      "#\n",
      "#out = open(\"ObsRotating0Sphere7.ascii\", 'w')\n",
      "#n_points = np.size(hist90)\n",
      "\n",
      "#for i in range(n_points):\n",
      "#    out.write(\"%f %f %f %f\\n\" % (hist90[i], bin_edges90[i], s90[i], scatt[i]))\n",
      "#out.close()"
     ],
     "language": "python",
     "metadata": {},
     "outputs": [],
     "prompt_number": 73
    },
    {
     "cell_type": "code",
     "collapsed": false,
     "input": [
      "#This cell is to find the escpae fraction values.  I have to do it for every model.\n",
      "a0 = sum(s0) #90\n",
      "a3687 = sum(s3687) #45\n",
      "a5313 = sum(s5313) # 0\n",
      "a6642 = sum(s6642)\n",
      "a7846 = sum(s7846)\n",
      "a90 = sum(s90)\n",
      "\n",
      "print a0, a3687, a5313, a6642, a7846, a90\n"
     ],
     "language": "python",
     "metadata": {},
     "outputs": [
      {
       "output_type": "stream",
       "stream": "stdout",
       "text": [
        "50217.2961952 50146.2655441 50139.0629067 50134.9760012 50145.1119109 50150.631997\n"
       ]
      }
     ],
     "prompt_number": 8
    },
    {
     "cell_type": "code",
     "collapsed": false,
     "input": [
      "#scape fraction homogeneo 7t v 200\n",
      "q = 12813.83/49611.559846  \n",
      "q1 = 12781.88/49807.14807 \n",
      "q2 = 12610.04/49692.842\n",
      "print q\n",
      "print q1 \n",
      "print q2"
     ],
     "language": "python",
     "metadata": {},
     "outputs": [
      {
       "output_type": "stream",
       "stream": "stdout",
       "text": [
        "0.258283150939\n",
        "0.256627421872\n",
        "0.253759686355\n"
       ]
      }
     ],
     "prompt_number": 20
    },
    {
     "cell_type": "code",
     "collapsed": false,
     "input": [
      "sum(x)"
     ],
     "language": "python",
     "metadata": {},
     "outputs": [
      {
       "output_type": "pyout",
       "prompt_number": 37,
       "text": [
        "10"
       ]
      }
     ],
     "prompt_number": 37
    },
    {
     "cell_type": "code",
     "collapsed": false,
     "input": [
      "print s"
     ],
     "language": "python",
     "metadata": {},
     "outputs": [
      {
       "output_type": "stream",
       "stream": "stdout",
       "text": [
        "[ 0.8748153   0.6036096   0.04358196 ...,  0.3839598   0.3230992   0.1742159 ]\n"
       ]
      }
     ],
     "prompt_number": 38
    },
    {
     "cell_type": "code",
     "collapsed": false,
     "input": [
      "print sum(s)"
     ],
     "language": "python",
     "metadata": {},
     "outputs": [
      {
       "output_type": "stream",
       "stream": "stdout",
       "text": [
        "13253.4066948\n"
       ]
      }
     ],
     "prompt_number": 39
    },
    {
     "cell_type": "code",
     "collapsed": false,
     "input": [
      "\n"
     ],
     "language": "python",
     "metadata": {},
     "outputs": [
      {
       "output_type": "stream",
       "stream": "stdout",
       "text": [
        "\n",
        "Welcome to pylab, a matplotlib-based Python environment [backend: module://IPython.zmq.pylab.backend_inline].\n",
        "For more information, type 'help(pylab)'.\n"
       ]
      },
      {
       "ename": "ImportError",
       "evalue": "No module named rpy2.rinterface",
       "output_type": "pyerr",
       "traceback": [
        "\u001b[1;31m---------------------------------------------------------------------------\u001b[0m\n\u001b[1;31mImportError\u001b[0m                               Traceback (most recent call last)",
        "\u001b[1;32m<ipython-input-164-959c1913580e>\u001b[0m in \u001b[0;36m<module>\u001b[1;34m()\u001b[0m\n\u001b[0;32m      1\u001b[0m \u001b[0mget_ipython\u001b[0m\u001b[1;33m(\u001b[0m\u001b[1;33m)\u001b[0m\u001b[1;33m.\u001b[0m\u001b[0mmagic\u001b[0m\u001b[1;33m(\u001b[0m\u001b[1;34mu'pylab inline'\u001b[0m\u001b[1;33m)\u001b[0m\u001b[1;33m\u001b[0m\u001b[0m\n\u001b[1;32m----> 2\u001b[1;33m \u001b[0mget_ipython\u001b[0m\u001b[1;33m(\u001b[0m\u001b[1;33m)\u001b[0m\u001b[1;33m.\u001b[0m\u001b[0mmagic\u001b[0m\u001b[1;33m(\u001b[0m\u001b[1;34mu'load_ext rmagic'\u001b[0m\u001b[1;33m)\u001b[0m\u001b[1;33m\u001b[0m\u001b[0m\n\u001b[0m\u001b[0;32m      3\u001b[0m \u001b[0mget_ipython\u001b[0m\u001b[1;33m(\u001b[0m\u001b[1;33m)\u001b[0m\u001b[1;33m.\u001b[0m\u001b[0mmagic\u001b[0m\u001b[1;33m(\u001b[0m\u001b[1;34mu'R x<-scatt[index]'\u001b[0m\u001b[1;33m)\u001b[0m\u001b[1;33m\u001b[0m\u001b[0m\n",
        "\u001b[1;32m/home/Nicolas-Garavito/Documents/yt-i686/lib/python2.7/site-packages/IPython/core/interactiveshell.pyc\u001b[0m in \u001b[0;36mmagic\u001b[1;34m(self, arg_s)\u001b[0m\n\u001b[0;32m   2134\u001b[0m         \u001b[0mmagic_name\u001b[0m\u001b[1;33m,\u001b[0m \u001b[0m_\u001b[0m\u001b[1;33m,\u001b[0m \u001b[0mmagic_arg_s\u001b[0m \u001b[1;33m=\u001b[0m \u001b[0marg_s\u001b[0m\u001b[1;33m.\u001b[0m\u001b[0mpartition\u001b[0m\u001b[1;33m(\u001b[0m\u001b[1;34m' '\u001b[0m\u001b[1;33m)\u001b[0m\u001b[1;33m\u001b[0m\u001b[0m\n\u001b[0;32m   2135\u001b[0m         \u001b[0mmagic_name\u001b[0m \u001b[1;33m=\u001b[0m \u001b[0mmagic_name\u001b[0m\u001b[1;33m.\u001b[0m\u001b[0mlstrip\u001b[0m\u001b[1;33m(\u001b[0m\u001b[0mprefilter\u001b[0m\u001b[1;33m.\u001b[0m\u001b[0mESC_MAGIC\u001b[0m\u001b[1;33m)\u001b[0m\u001b[1;33m\u001b[0m\u001b[0m\n\u001b[1;32m-> 2136\u001b[1;33m         \u001b[1;32mreturn\u001b[0m \u001b[0mself\u001b[0m\u001b[1;33m.\u001b[0m\u001b[0mrun_line_magic\u001b[0m\u001b[1;33m(\u001b[0m\u001b[0mmagic_name\u001b[0m\u001b[1;33m,\u001b[0m \u001b[0mmagic_arg_s\u001b[0m\u001b[1;33m)\u001b[0m\u001b[1;33m\u001b[0m\u001b[0m\n\u001b[0m\u001b[0;32m   2137\u001b[0m \u001b[1;33m\u001b[0m\u001b[0m\n\u001b[0;32m   2138\u001b[0m     \u001b[1;31m#-------------------------------------------------------------------------\u001b[0m\u001b[1;33m\u001b[0m\u001b[1;33m\u001b[0m\u001b[0m\n",
        "\u001b[1;32m/home/Nicolas-Garavito/Documents/yt-i686/lib/python2.7/site-packages/IPython/core/interactiveshell.pyc\u001b[0m in \u001b[0;36mrun_line_magic\u001b[1;34m(self, magic_name, line)\u001b[0m\n\u001b[0;32m   2060\u001b[0m                 \u001b[0margs\u001b[0m\u001b[1;33m.\u001b[0m\u001b[0mappend\u001b[0m\u001b[1;33m(\u001b[0m\u001b[0msys\u001b[0m\u001b[1;33m.\u001b[0m\u001b[0m_getframe\u001b[0m\u001b[1;33m(\u001b[0m\u001b[0mstack_depth\u001b[0m\u001b[1;33m)\u001b[0m\u001b[1;33m.\u001b[0m\u001b[0mf_locals\u001b[0m\u001b[1;33m)\u001b[0m\u001b[1;33m\u001b[0m\u001b[0m\n\u001b[0;32m   2061\u001b[0m             \u001b[1;32mwith\u001b[0m \u001b[0mself\u001b[0m\u001b[1;33m.\u001b[0m\u001b[0mbuiltin_trap\u001b[0m\u001b[1;33m:\u001b[0m\u001b[1;33m\u001b[0m\u001b[0m\n\u001b[1;32m-> 2062\u001b[1;33m                 \u001b[0mresult\u001b[0m \u001b[1;33m=\u001b[0m \u001b[0mfn\u001b[0m\u001b[1;33m(\u001b[0m\u001b[1;33m*\u001b[0m\u001b[0margs\u001b[0m\u001b[1;33m)\u001b[0m\u001b[1;33m\u001b[0m\u001b[0m\n\u001b[0m\u001b[0;32m   2063\u001b[0m             \u001b[1;32mreturn\u001b[0m \u001b[0mresult\u001b[0m\u001b[1;33m\u001b[0m\u001b[0m\n\u001b[0;32m   2064\u001b[0m \u001b[1;33m\u001b[0m\u001b[0m\n",
        "\u001b[1;32m/home/Nicolas-Garavito/Documents/yt-i686/lib/python2.7/site-packages/IPython/core/magics/extension.pyc\u001b[0m in \u001b[0;36mload_ext\u001b[1;34m(self, module_str)\u001b[0m\n",
        "\u001b[1;32m/home/Nicolas-Garavito/Documents/yt-i686/lib/python2.7/site-packages/IPython/core/magic.pyc\u001b[0m in \u001b[0;36m<lambda>\u001b[1;34m(f, *a, **k)\u001b[0m\n\u001b[0;32m    189\u001b[0m     \u001b[1;31m# but it's overkill for just that one bit of state.\u001b[0m\u001b[1;33m\u001b[0m\u001b[1;33m\u001b[0m\u001b[0m\n\u001b[0;32m    190\u001b[0m     \u001b[1;32mdef\u001b[0m \u001b[0mmagic_deco\u001b[0m\u001b[1;33m(\u001b[0m\u001b[0marg\u001b[0m\u001b[1;33m)\u001b[0m\u001b[1;33m:\u001b[0m\u001b[1;33m\u001b[0m\u001b[0m\n\u001b[1;32m--> 191\u001b[1;33m         \u001b[0mcall\u001b[0m \u001b[1;33m=\u001b[0m \u001b[1;32mlambda\u001b[0m \u001b[0mf\u001b[0m\u001b[1;33m,\u001b[0m \u001b[1;33m*\u001b[0m\u001b[0ma\u001b[0m\u001b[1;33m,\u001b[0m \u001b[1;33m**\u001b[0m\u001b[0mk\u001b[0m\u001b[1;33m:\u001b[0m \u001b[0mf\u001b[0m\u001b[1;33m(\u001b[0m\u001b[1;33m*\u001b[0m\u001b[0ma\u001b[0m\u001b[1;33m,\u001b[0m \u001b[1;33m**\u001b[0m\u001b[0mk\u001b[0m\u001b[1;33m)\u001b[0m\u001b[1;33m\u001b[0m\u001b[0m\n\u001b[0m\u001b[0;32m    192\u001b[0m \u001b[1;33m\u001b[0m\u001b[0m\n\u001b[0;32m    193\u001b[0m         \u001b[1;32mif\u001b[0m \u001b[0mcallable\u001b[0m\u001b[1;33m(\u001b[0m\u001b[0marg\u001b[0m\u001b[1;33m)\u001b[0m\u001b[1;33m:\u001b[0m\u001b[1;33m\u001b[0m\u001b[0m\n",
        "\u001b[1;32m/home/Nicolas-Garavito/Documents/yt-i686/lib/python2.7/site-packages/IPython/core/magics/extension.pyc\u001b[0m in \u001b[0;36mload_ext\u001b[1;34m(self, module_str)\u001b[0m\n\u001b[0;32m     57\u001b[0m     \u001b[1;32mdef\u001b[0m \u001b[0mload_ext\u001b[0m\u001b[1;33m(\u001b[0m\u001b[0mself\u001b[0m\u001b[1;33m,\u001b[0m \u001b[0mmodule_str\u001b[0m\u001b[1;33m)\u001b[0m\u001b[1;33m:\u001b[0m\u001b[1;33m\u001b[0m\u001b[0m\n\u001b[0;32m     58\u001b[0m         \u001b[1;34m\"\"\"Load an IPython extension by its module name.\"\"\"\u001b[0m\u001b[1;33m\u001b[0m\u001b[0m\n\u001b[1;32m---> 59\u001b[1;33m         \u001b[1;32mreturn\u001b[0m \u001b[0mself\u001b[0m\u001b[1;33m.\u001b[0m\u001b[0mshell\u001b[0m\u001b[1;33m.\u001b[0m\u001b[0mextension_manager\u001b[0m\u001b[1;33m.\u001b[0m\u001b[0mload_extension\u001b[0m\u001b[1;33m(\u001b[0m\u001b[0mmodule_str\u001b[0m\u001b[1;33m)\u001b[0m\u001b[1;33m\u001b[0m\u001b[0m\n\u001b[0m\u001b[0;32m     60\u001b[0m \u001b[1;33m\u001b[0m\u001b[0m\n\u001b[0;32m     61\u001b[0m     \u001b[1;33m@\u001b[0m\u001b[0mline_magic\u001b[0m\u001b[1;33m\u001b[0m\u001b[0m\n",
        "\u001b[1;32m/home/Nicolas-Garavito/Documents/yt-i686/lib/python2.7/site-packages/IPython/core/extensions.pyc\u001b[0m in \u001b[0;36mload_extension\u001b[1;34m(self, module_str)\u001b[0m\n\u001b[0;32m     88\u001b[0m         \u001b[1;32mif\u001b[0m \u001b[0mmodule_str\u001b[0m \u001b[1;32mnot\u001b[0m \u001b[1;32min\u001b[0m \u001b[0msys\u001b[0m\u001b[1;33m.\u001b[0m\u001b[0mmodules\u001b[0m\u001b[1;33m:\u001b[0m\u001b[1;33m\u001b[0m\u001b[0m\n\u001b[0;32m     89\u001b[0m             \u001b[1;32mwith\u001b[0m \u001b[0mprepended_to_syspath\u001b[0m\u001b[1;33m(\u001b[0m\u001b[0mself\u001b[0m\u001b[1;33m.\u001b[0m\u001b[0mipython_extension_dir\u001b[0m\u001b[1;33m)\u001b[0m\u001b[1;33m:\u001b[0m\u001b[1;33m\u001b[0m\u001b[0m\n\u001b[1;32m---> 90\u001b[1;33m                 \u001b[0m__import__\u001b[0m\u001b[1;33m(\u001b[0m\u001b[0mmodule_str\u001b[0m\u001b[1;33m)\u001b[0m\u001b[1;33m\u001b[0m\u001b[0m\n\u001b[0m\u001b[0;32m     91\u001b[0m         \u001b[0mmod\u001b[0m \u001b[1;33m=\u001b[0m \u001b[0msys\u001b[0m\u001b[1;33m.\u001b[0m\u001b[0mmodules\u001b[0m\u001b[1;33m[\u001b[0m\u001b[0mmodule_str\u001b[0m\u001b[1;33m]\u001b[0m\u001b[1;33m\u001b[0m\u001b[0m\n\u001b[0;32m     92\u001b[0m         \u001b[1;32mreturn\u001b[0m \u001b[0mself\u001b[0m\u001b[1;33m.\u001b[0m\u001b[0m_call_load_ipython_extension\u001b[0m\u001b[1;33m(\u001b[0m\u001b[0mmod\u001b[0m\u001b[1;33m)\u001b[0m\u001b[1;33m\u001b[0m\u001b[0m\n",
        "\u001b[1;32m/home/Nicolas-Garavito/Documents/yt-i686/lib/python2.7/site-packages/IPython/extensions/rmagic.py\u001b[0m in \u001b[0;36m<module>\u001b[1;34m()\u001b[0m\n\u001b[0;32m     45\u001b[0m \u001b[1;32mimport\u001b[0m \u001b[0mnumpy\u001b[0m \u001b[1;32mas\u001b[0m \u001b[0mnp\u001b[0m\u001b[1;33m\u001b[0m\u001b[0m\n\u001b[0;32m     46\u001b[0m \u001b[1;33m\u001b[0m\u001b[0m\n\u001b[1;32m---> 47\u001b[1;33m \u001b[1;32mimport\u001b[0m \u001b[0mrpy2\u001b[0m\u001b[1;33m.\u001b[0m\u001b[0mrinterface\u001b[0m \u001b[1;32mas\u001b[0m \u001b[0mri\u001b[0m\u001b[1;33m\u001b[0m\u001b[0m\n\u001b[0m\u001b[0;32m     48\u001b[0m \u001b[1;32mimport\u001b[0m \u001b[0mrpy2\u001b[0m\u001b[1;33m.\u001b[0m\u001b[0mrobjects\u001b[0m \u001b[1;32mas\u001b[0m \u001b[0mro\u001b[0m\u001b[1;33m\u001b[0m\u001b[0m\n\u001b[0;32m     49\u001b[0m \u001b[1;32mfrom\u001b[0m \u001b[0mrpy2\u001b[0m\u001b[1;33m.\u001b[0m\u001b[0mrobjects\u001b[0m\u001b[1;33m.\u001b[0m\u001b[0mnumpy2ri\u001b[0m \u001b[1;32mimport\u001b[0m \u001b[0mnumpy2ri\u001b[0m\u001b[1;33m\u001b[0m\u001b[0m\n",
        "\u001b[1;31mImportError\u001b[0m: No module named rpy2.rinterface"
       ]
      }
     ],
     "prompt_number": 164
    },
    {
     "cell_type": "code",
     "collapsed": false,
     "input": [],
     "language": "python",
     "metadata": {},
     "outputs": []
    }
   ],
   "metadata": {}
  }
 ]
}