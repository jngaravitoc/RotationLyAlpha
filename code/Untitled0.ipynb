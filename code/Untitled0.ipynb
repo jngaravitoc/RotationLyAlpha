{
 "metadata": {
  "name": "Untitled0"
 },
 "nbformat": 3,
 "nbformat_minor": 0,
 "worksheets": [
  {
   "cells": [
    {
     "cell_type": "code",
     "collapsed": false,
     "input": [
      "%pylab inline"
     ],
     "language": "python",
     "metadata": {},
     "outputs": [
      {
       "output_type": "stream",
       "stream": "stdout",
       "text": [
        "\n",
        "Welcome to pylab, a matplotlib-based Python environment [backend: module://IPython.zmq.pylab.backend_inline].\n",
        "For more information, type 'help(pylab)'.\n"
       ]
      }
     ],
     "prompt_number": 1
    },
    {
     "cell_type": "code",
     "collapsed": false,
     "input": [
      "def readoc(filename):\n",
      "    data = np.loadtxt(filename)\n",
      "    kx = data[:, 3]\n",
      "    ky = data[:, 4]\n",
      "    kz = data[:, 5]\n",
      "    x = data[:, 6]\n",
      "    return x, kx, ky, kz\n"
     ],
     "language": "python",
     "metadata": {},
     "outputs": [],
     "prompt_number": 34
    },
    {
     "cell_type": "code",
     "collapsed": false,
     "input": [
      "def Theta(filename):\n",
      "    data = readoc(\"../data/Homogeneous/\"+ filename)\n",
      "    kx = data[1]\n",
      "    ky = data[2]\n",
      "    kz = data[3]\n",
      "    theta = 0.0\n",
      "    obs = []\n",
      "    f = open(\"data.dat\", \"w\")\n",
      "    while theta<np.pi/2.0:\n",
      "        x = data[0]\n",
      "        #print x\n",
      "        R  = np.array([0, np.sin(theta), np.cos(theta)])\n",
      "        mu = kx*R[0] + ky*R[1] + kz*R[2]\n",
      "        index= np.where(abs(mu)>0.9)\n",
      "        x = x[index]\n",
      "        #print len(x)\n",
      "        for i in range(len(x)):\n",
      "                f.write(str(x[i]) + \"  \" +  str(theta) +\"\\n\" )\n",
      "        theta += np.pi/40.0\n",
      "    f.close()"
     ],
     "language": "python",
     "metadata": {},
     "outputs": [],
     "prompt_number": 37
    },
    {
     "cell_type": "code",
     "collapsed": false,
     "input": [
      "Theta(\"Rotating50Sphere5tHOM.ascii\")\n"
     ],
     "language": "python",
     "metadata": {},
     "outputs": [],
     "prompt_number": 91
    },
    {
     "cell_type": "code",
     "collapsed": false,
     "input": [
      "data = np.loadtxt(\"data.dat\")"
     ],
     "language": "python",
     "metadata": {},
     "outputs": [],
     "prompt_number": 92
    },
    {
     "cell_type": "code",
     "collapsed": false,
     "input": [
      "x = data[:,0]\n",
      "theta = data[:,1]"
     ],
     "language": "python",
     "metadata": {},
     "outputs": [],
     "prompt_number": 93
    },
    {
     "cell_type": "code",
     "collapsed": false,
     "input": [
      "indice = []\n",
      "for i in range(len(theta)):\n",
      "    if theta[i-1]!= theta[i]:\n",
      "        indice.append(i)\n",
      "print indice"
     ],
     "language": "python",
     "metadata": {},
     "outputs": [
      {
       "output_type": "stream",
       "stream": "stdout",
       "text": [
        "[0, 10025, 20063, 30109, 40145, 50191, 60232, 70182, 80079, 89976, 99858, 109719, 119604, 129575, 139594, 149618, 159659, 169743, 179797, 189903]\n"
       ]
      }
     ],
     "prompt_number": 94
    },
    {
     "cell_type": "code",
     "collapsed": false,
     "input": [
      "x1 = x[indice[0]:indice[1]-1]\n",
      "x2 = x[indice[1]:indice[2]-1]\n",
      "x3 = x[indice[2]:indice[3]-1]\n",
      "x4 = x[indice[3]:indice[4]-1]\n",
      "x5 = x[indice[4]:indice[5]-1]\n",
      "x6 = x[indice[5]:indice[6]-1]\n",
      "x7 = x[indice[6]:indice[7]-1]\n",
      "x8 = x[indice[7]:indice[8]-1]\n",
      "x9 = x[indice[8]:indice[9]-1]\n",
      "x10 = x[indice[9]:indice[10]-1]\n",
      "x11 = x[indice[10]:indice[11]-1]\n",
      "x12 = x[indice[11]:indice[12]-1]\n",
      "x13 = x[indice[12]:indice[13]-1]\n",
      "X = max(len(x1), len(x2), len(x3), len(x4), len(x5), len(x6), len(x7), len(x8), len(x9), len(x10), len(x11), len(x12), len(x13))\n"
     ],
     "language": "python",
     "metadata": {},
     "outputs": [],
     "prompt_number": 95
    },
    {
     "cell_type": "code",
     "collapsed": false,
     "input": [
      "z1 = []\n",
      "z2 = []\n",
      "z3 = []\n",
      "z4 = []\n",
      "z5 = []\n",
      "z6 = []\n",
      "z7 = []\n",
      "z8 = []\n",
      "z9 = []\n",
      "z10 = []\n",
      "z11 = []\n",
      "z12 = []\n",
      "z13 = []\n",
      "for i in range(X):\n",
      "    z1.append(x1[i])\n",
      "    z2.append(x2[i])\n",
      "    z3.append(x3[i])\n",
      "    z4.append(x4[i])\n",
      "    z5.append(x5[i])\n",
      "    z6.append(x6[i])\n",
      "    z7.append(x7[i])\n",
      "    z8.append(x8[i])\n",
      "    z9.append(x9[i])\n",
      "    z10.append(x10[i])\n",
      "    z11.append(x11[i])\n",
      "    z12.append(x12[i])\n",
      "    z13.append(x13[i])\n",
      "    "
     ],
     "language": "python",
     "metadata": {},
     "outputs": [
      {
       "ename": "IndexError",
       "evalue": "index 9860 is out of bounds for axis 0 with size 9860",
       "output_type": "pyerr",
       "traceback": [
        "\u001b[0;31m---------------------------------------------------------------------------\u001b[0m\n\u001b[0;31mIndexError\u001b[0m                                Traceback (most recent call last)",
        "\u001b[0;32m<ipython-input-96-3fb81ba9cbfb>\u001b[0m in \u001b[0;36m<module>\u001b[0;34m()\u001b[0m\n\u001b[1;32m     23\u001b[0m     \u001b[0mz9\u001b[0m\u001b[0;34m.\u001b[0m\u001b[0mappend\u001b[0m\u001b[0;34m(\u001b[0m\u001b[0mx9\u001b[0m\u001b[0;34m[\u001b[0m\u001b[0mi\u001b[0m\u001b[0;34m]\u001b[0m\u001b[0;34m)\u001b[0m\u001b[0;34m\u001b[0m\u001b[0m\n\u001b[1;32m     24\u001b[0m     \u001b[0mz10\u001b[0m\u001b[0;34m.\u001b[0m\u001b[0mappend\u001b[0m\u001b[0;34m(\u001b[0m\u001b[0mx10\u001b[0m\u001b[0;34m[\u001b[0m\u001b[0mi\u001b[0m\u001b[0;34m]\u001b[0m\u001b[0;34m)\u001b[0m\u001b[0;34m\u001b[0m\u001b[0m\n\u001b[0;32m---> 25\u001b[0;31m     \u001b[0mz11\u001b[0m\u001b[0;34m.\u001b[0m\u001b[0mappend\u001b[0m\u001b[0;34m(\u001b[0m\u001b[0mx11\u001b[0m\u001b[0;34m[\u001b[0m\u001b[0mi\u001b[0m\u001b[0;34m]\u001b[0m\u001b[0;34m)\u001b[0m\u001b[0;34m\u001b[0m\u001b[0m\n\u001b[0m\u001b[1;32m     26\u001b[0m     \u001b[0mz12\u001b[0m\u001b[0;34m.\u001b[0m\u001b[0mappend\u001b[0m\u001b[0;34m(\u001b[0m\u001b[0mx12\u001b[0m\u001b[0;34m[\u001b[0m\u001b[0mi\u001b[0m\u001b[0;34m]\u001b[0m\u001b[0;34m)\u001b[0m\u001b[0;34m\u001b[0m\u001b[0m\n\u001b[1;32m     27\u001b[0m     \u001b[0mz13\u001b[0m\u001b[0;34m.\u001b[0m\u001b[0mappend\u001b[0m\u001b[0;34m(\u001b[0m\u001b[0mx13\u001b[0m\u001b[0;34m[\u001b[0m\u001b[0mi\u001b[0m\u001b[0;34m]\u001b[0m\u001b[0;34m)\u001b[0m\u001b[0;34m\u001b[0m\u001b[0m\n",
        "\u001b[0;31mIndexError\u001b[0m: index 9860 is out of bounds for axis 0 with size 9860"
       ]
      }
     ],
     "prompt_number": 96
    },
    {
     "cell_type": "code",
     "collapsed": false,
     "input": [
      "z = []\n",
      "z.append(z1)\n",
      "z.append(z2)\n",
      "z.append(z3)\n",
      "z.append(z4)\n",
      "z.append(z5)\n",
      "z.append(z6)\n",
      "z.append(z7)\n",
      "z.append(z8)\n",
      "z.append(z9)\n",
      "z.append(z10)\n",
      "z.append(z11)\n",
      "z.append(z12)\n",
      "z.append(z13)"
     ],
     "language": "python",
     "metadata": {},
     "outputs": [],
     "prompt_number": 97
    },
    {
     "cell_type": "code",
     "collapsed": false,
     "input": [
      "Z = []\n",
      "Z1 = histogram(z1, bins = 30)\n",
      "Z2 = histogram(z2, bins = 30)\n",
      "Z3 = histogram(z3, bins = 30)\n",
      "Z4 = histogram(z4, bins = 30)\n",
      "Z5 = histogram(z5, bins = 30)\n",
      "Z6 = histogram(z6, bins = 30)\n",
      "Z7 = histogram(z7, bins = 30)\n",
      "Z8 = histogram(z8, bins = 30)\n",
      "Z9 = histogram(z9, bins = 30)\n",
      "\n",
      "Z.append(Z1[0])\n",
      "Z.append(Z2[0])\n",
      "Z.append(Z3[0])\n",
      "Z.append(Z4[0])\n",
      "Z.append(Z5[0])\n",
      "Z.append(Z6[0])\n",
      "Z.append(Z7[0])\n",
      "Z.append(Z8[0])\n",
      "Z.append(Z9[0])\n"
     ],
     "language": "python",
     "metadata": {},
     "outputs": [],
     "prompt_number": 98
    },
    {
     "cell_type": "code",
     "collapsed": false,
     "input": [
      "xmin = -30\n",
      "xmax = 30\n",
      "ymin = 0\n",
      "ymax = 1.7\n",
      "aspectratio = 1.0*(xmax - xmin)/(1.0*ymax - ymin)\n",
      "plt.figure(num=None, figsize=(9.5,8))\n",
      "plt.imshow(Z,extent=[xmin,xmax,ymin,ymax],interpolation='nearest',origin='lower', aspect=aspectratio)\n",
      "plt.ylim([ymin,ymax])\n",
      "plt.colorbar()\n",
      "plt.xlabel(\"$x$\",fontsize=35)\n",
      "plt.ylabel(r\"$\\mathrm{\\theta}(rad)}$\",fontsize=35)\n",
      "plt.savefig(\"505thom2dhistothetavsx\")"
     ],
     "language": "python",
     "metadata": {},
     "outputs": [
      {
       "output_type": "display_data",
       "png": "[encoded data removed]"
      }
     ],
     "prompt_number": 99
    },
    {
     "cell_type": "code",
     "collapsed": false,
     "input": [],
     "language": "python",
     "metadata": {},
     "outputs": []
    }
   ],
   "metadata": {}
  }
 ]
}