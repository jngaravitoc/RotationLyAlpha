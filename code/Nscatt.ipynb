{
 "metadata": {
  "name": "Nscatt"
 },
 "nbformat": 3,
 "nbformat_minor": 0,
 "worksheets": [
  {
   "cells": [
    {
     "cell_type": "code",
     "collapsed": false,
     "input": [
      "%pylab inline\n",
      "import math\n",
      "font = {'size':25, 'family':'serif'}\n",
      "matplotlib.rc('font', **font)"
     ],
     "language": "python",
     "metadata": {},
     "outputs": [
      {
       "output_type": "stream",
       "stream": "stdout",
       "text": [
        "\n",
        "Welcome to pylab, a matplotlib-based Python environment [backend: module://IPython.zmq.pylab.backend_inline].\n",
        "For more information, type 'help(pylab)'.\n"
       ]
      }
     ],
     "prompt_number": 16
    },
    {
     "cell_type": "code",
     "collapsed": false,
     "input": [
      "def loading_data(filename, distribution):\n",
      "    if distribution == 0:\n",
      "        data = loadtxt(\"../data/Central/\" + filename)\n",
      "        initpos=data[:,0]\n",
      "        index_clean = np.where(~np.isnan(initpos))\n",
      "        data = data[index_clean[0],:]\n",
      "\n",
      "    elif distribution == 1:\n",
      "        data = loadtxt(\"../data/Homogeneous/\" + filename)\n",
      "        initpos=data[:,0]\n",
      "        index_clean = np.where(~np.isnan(initpos))\n",
      "        data = data[index_clean[0],:]\n",
      "\n",
      "    kz = data[:,5]\n",
      "    x = data[:,6]\n",
      "    nscatt = data[:,8]\n",
      "    N = sum(nscatt)/(len(nscatt))\n",
      "    return N"
     ],
     "language": "python",
     "metadata": {},
     "outputs": [],
     "prompt_number": 22
    },
    {
     "cell_type": "code",
     "collapsed": false,
     "input": [
      "nscatt05t = loading_data(\"Rotating0Sphere5t.ascii\", 0)\n",
      "nscatt1005t = loading_data(\"Rotating100Sphere5t.ascii\", 0)\n",
      "nscatt2005t = loading_data(\"Rotating200Sphere5t.ascii\", 0)\n",
      "nscatt3005t = loading_data(\"Rotating300Sphere5t.ascii\", 0)\n",
      "nscatt06t = loading_data(\"Rotating0Sphere6t.ascii\", 0)\n",
      "nscatt1006t = loading_data(\"Rotating100Sphere6t.ascii\", 0)\n",
      "nscatt2006t = loading_data(\"Rotating200Sphere6t.ascii\", 0)\n",
      "nscatt3006t = loading_data(\"Rotating300Sphere6t.ascii\", 0)\n",
      "nscatt07t = loading_data(\"Rotating0Sphere7t.ascii\", 0)\n",
      "nscatt1007t = loading_data(\"Rotating100Sphere7t.ascii\", 0)\n",
      "nscatt2007t = loading_data(\"Rotating200Sphere7t.ascii\", 0)\n",
      "nscatt3007t = loading_data(\"Rotating300Sphere7t.ascii\", 0)"
     ],
     "language": "python",
     "metadata": {},
     "outputs": [],
     "prompt_number": 23
    },
    {
     "cell_type": "code",
     "collapsed": false,
     "input": [
      "nscatt05th = loading_data(\"RotatingV0Sphere5tHOM_out.ascii\", 1)\n",
      "nscatt1005th = loading_data(\"RotatingV100Sphere5tHOM_out.ascii\", 1)\n",
      "nscatt2005th = loading_data(\"RotatingV200Sphere5tHOM_out.ascii\", 1)\n",
      "nscatt3005th = loading_data(\"RotatingV300Sphere5tHOM_out.ascii\", 1)\n",
      "nscatt06th = loading_data(\"RotatingV0Sphere6tHOM_out.ascii\", 1)\n",
      "nscatt1006th = loading_data(\"RotatingV100Sphere6tHOM_out.ascii\", 1)\n",
      "nscatt2006th = loading_data(\"RotatingV200Sphere6tHOM_out.ascii\", 1)\n",
      "nscatt3006th = loading_data(\"RotatingV300Sphere6tHOM_out.ascii\", 1)\n",
      "nscatt07th = loading_data(\"RotatingV0Sphere7tHOM_out.ascii\", 1)\n",
      "nscatt1007th = loading_data(\"RotatingV100Sphere7tHOM_out.ascii\", 1)\n",
      "nscatt2007th = loading_data(\"RotatingV200Sphere7tHOM_out.ascii\", 1)\n",
      "nscatt3007th = loading_data(\"RotatingV300Sphere7tHOM_out.ascii\", 1)"
     ],
     "language": "python",
     "metadata": {},
     "outputs": [],
     "prompt_number": 24
    },
    {
     "cell_type": "code",
     "collapsed": false,
     "input": [
      "print N5hom"
     ],
     "language": "python",
     "metadata": {},
     "outputs": [
      {
       "output_type": "stream",
       "stream": "stdout",
       "text": [
        "[array([  34599.,  154128.,   15869., ...,    6699.,   96578.,  270229.]), array([  31132.,  154128.,   15869., ...,  195468.,   96357.,  197036.]), array([  31132.,  154128.,   15869., ...,  195468.,   96357.,  197036.]), array([  31132.,  154128.,   15869., ...,  195468.,   96357.,  197036.])]\n"
       ]
      }
     ],
     "prompt_number": 21
    },
    {
     "cell_type": "code",
     "collapsed": false,
     "input": [
      "#Caso homogeneo, estos datos vienen de la carpeta Lyalpha/Model5\n",
      "\n",
      "#Optical Depth 10^5, 10^6, 10^7\n",
      "\n",
      "N7hom = [nscatt07th, nscatt1007th, nscatt2007th, nscatt3007th]\n",
      "N6hom = [nscatt06th, nscatt1006th, nscatt1006th, nscatt3006th]\n",
      "N5hom = [nscatt05th, nscatt1005th, nscatt2005th, nscatt3005th]\n",
      "\n",
      "#dif  = N5hom[0] - N5hom[4]\n",
      "\n",
      "#print dif\n",
      "\n",
      "N7 = [nscatt07t, nscatt1007t, nscatt2007t, nscatt3007t]\n",
      "N6 = [nscatt06t, nscatt1006t, nscatt1006t, nscatt3006t]\n",
      "N5 = [nscatt05t, nscatt1005t, nscatt2005t, nscatt3005t]\n",
      "\n",
      "v = [0,100,200,300]\n",
      "\n",
      "figure(num=None, figsize=(9.5,9))\n",
      "\n",
      "p1hom, = plot(v,log10(N5hom), marker = 'o', ms=10, linewidth = 2.5, c = 'k', ls = '--')\n",
      "p2hom, = plot(v,log10(N6hom), marker = 's', ms=10, linewidth = 2.5, c = 'k', ls = '--')\n",
      "p3hom, = plot(v,log10(N7hom), marker = '^', ms=10, linewidth = 2.5, c = 'k', ls = '--')\n",
      "\n",
      "p1, = plot(v,log10(N5), marker = 'o', ms=10, linewidth = 2.5, c = 'k')\n",
      "p2, = plot(v,log10(N6), marker = 's', ms=10, linewidth = 2.5, c = 'k')\n",
      "p3, = plot(v,log10(N7), marker = '^', ms=10, linewidth = 2.5, c = 'k')\n",
      "\n",
      "legend([p1, p2, p3], [r\"$\\tau=10^{5}$\",r\"$\\tau=10^{6}$\",r\"$\\tau=10^{7}$\"], loc = 'upper center', ncol=3, fontsize = 20)\n",
      "\n",
      "legend([p1hom, p2hom, p3hom], [r\"$\\tau_H=10^{5}$\",r\"$\\tau_H=10^{6}$\",r\"$\\tau_H=10^{7}$\"], loc = 'upper center', ncol=3, fontsize = 20)\n",
      "\n",
      "plt.xlabel (\"$\\mathrm{V_{max}}$($\\mathrm{km}$ $\\mathrm{s^{-1}}$)\", fontsize=35)\n",
      "plt.ylabel (\"$\\log_{10} \\mathrm{ N_{scatt}}$\", fontsize=35)\n",
      "\n",
      "plt.tick_params(axis='both', which='major')\n",
      "new_xtick_positions = ([0, 100, 200, 300])\n",
      "plt.xticks(new_xtick_positions)\n",
      "\n",
      "plt.xlim([-25,350])\n",
      "plt.ylim([4.5, 7.5])\n",
      "\n",
      "\n",
      "savefig('../paper/f13.png', bbox_inches='tight', format='png', transparent=True)\n",
      "savefig('../paper/f13.pdf', bbox_inches='tight', format='pdf', transparent=True)\n"
     ],
     "language": "python",
     "metadata": {},
     "outputs": [
      {
       "output_type": "display_data",
       "png": "[encoded data removed]"
      }
     ],
     "prompt_number": 25
    },
    {
     "cell_type": "code",
     "collapsed": false,
     "input": [
      "def novertau(N, t):\n",
      "    return N/float(t)"
     ],
     "language": "python",
     "metadata": {},
     "outputs": [],
     "prompt_number": 25
    },
    {
     "cell_type": "code",
     "collapsed": false,
     "input": [
      "x1h = novertau(N7hom[4], 10**7)\n",
      "x2h = novertau(N6hom[4], 10**6)\n",
      "x3h = novertau(N5hom[4], 10**5)"
     ],
     "language": "python",
     "metadata": {},
     "outputs": [],
     "prompt_number": 41
    },
    {
     "cell_type": "code",
     "collapsed": false,
     "input": [
      "x1 = novertau(N7[4], 10**7)\n",
      "x2 = novertau(N6[4], 10**6)\n",
      "x3 = novertau(N5[4], 10**5)"
     ],
     "language": "python",
     "metadata": {},
     "outputs": [],
     "prompt_number": 40
    },
    {
     "cell_type": "code",
     "collapsed": false,
     "input": [
      "print x1h/x1, x2h/x2, x3h/x3"
     ],
     "language": "python",
     "metadata": {},
     "outputs": [
      {
       "output_type": "stream",
       "stream": "stdout",
       "text": [
        "0.463259872826 0.344184107762 0.25610848268\n"
       ]
      }
     ],
     "prompt_number": 43
    },
    {
     "cell_type": "code",
     "collapsed": false,
     "input": [],
     "language": "python",
     "metadata": {},
     "outputs": []
    }
   ],
   "metadata": {}
  }
 ]
}