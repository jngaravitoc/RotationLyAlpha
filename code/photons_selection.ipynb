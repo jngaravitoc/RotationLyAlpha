{
 "cells": [
  {
   "cell_type": "code",
   "execution_count": 1,
   "metadata": {
    "collapsed": false
   },
   "outputs": [
    {
     "name": "stdout",
     "output_type": "stream",
     "text": [
      "Using matplotlib backend: Qt4Agg\n",
      "Populating the interactive namespace from numpy and matplotlib\n"
     ]
    },
    {
     "name": "stderr",
     "output_type": "stream",
     "text": [
      "/home/jngaravito57/Documents/codes/ipython/IPython/kernel/__init__.py:10: UserWarning: The `IPython.kernel` package has been deprecated. You should import from ipython_kernel or jupyter_client instead.\n",
      "  warn(\"The `IPython.kernel` package has been deprecated. \"\n"
     ]
    }
   ],
   "source": [
    "%pylab "
   ]
  },
  {
   "cell_type": "code",
   "execution_count": 15,
   "metadata": {
    "collapsed": false
   },
   "outputs": [],
   "source": [
    "!python photons_directions.py RotatingV300Sphere7tHOM_out.ascii   > test.txt"
   ]
  },
  {
   "cell_type": "code",
   "execution_count": 16,
   "metadata": {
    "collapsed": false
   },
   "outputs": [],
   "source": [
    "data = np.loadtxt(\"test.txt\")"
   ]
  },
  {
   "cell_type": "code",
   "execution_count": 17,
   "metadata": {
    "collapsed": false
   },
   "outputs": [],
   "source": [
    "histl = data[:,0]\n",
    "binsl = data[:,1]\n",
    "histr = data[:,2]\n",
    "binsr = data[:,3]"
   ]
  },
  {
   "cell_type": "code",
   "execution_count": 18,
   "metadata": {
    "collapsed": false
   },
   "outputs": [
    {
     "name": "stdout",
     "output_type": "stream",
     "text": [
      "[ 151.87708622]\n"
     ]
    }
   ],
   "source": [
    "index1 = where(histl == max(histl))\n",
    "binsll = binsl[index1]\n",
    "index2 = where(histr == max(histr))\n",
    "binsrr = binsr[index2]\n",
    "print (binsll-binsrr)*12.85"
   ]
  },
  {
   "cell_type": "code",
   "execution_count": 19,
   "metadata": {
    "collapsed": false
   },
   "outputs": [],
   "source": [
    "plot(-binsl*12.85, histl, label=r\"$Left$\")\n",
    "plot(-binsr*12.85, histr, label=r\"$Right$\")\n",
    "#axvline(-binsll*12.85)\n",
    "#axvline(-binsrr*12.85, c='g')\n",
    "legend(fontsize=15)\n",
    "title(r\"$300km/s\\ \\tau=10^5\\ HOM,\\ \\Delta X = 113 km/s$\", fontsize=20)\n",
    "xlabel(\"$V_{max}(Km/s)$\", fontsize=25)\n",
    "show()\n",
    "#savefig(\"300Hom6t.png\")"
   ]
  },
  {
   "cell_type": "code",
   "execution_count": null,
   "metadata": {
    "collapsed": true
   },
   "outputs": [],
   "source": []
  }
 ],
 "metadata": {
  "kernelspec": {
   "display_name": "Python 2",
   "language": "python",
   "name": "python2"
  },
  "language_info": {
   "codemirror_mode": {
    "name": "ipython",
    "version": 2
   },
   "file_extension": ".py",
   "mimetype": "text/x-python",
   "name": "python",
   "nbconvert_exporter": "python",
   "pygments_lexer": "ipython2",
   "version": "2.7.8"
  }
 },
 "nbformat": 4,
 "nbformat_minor": 0
}
