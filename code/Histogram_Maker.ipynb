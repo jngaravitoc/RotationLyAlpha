{
 "metadata": {
  "name": "Histogram_Maker"
 },
 "nbformat": 3,
 "nbformat_minor": 0,
 "worksheets": [
  {
   "cells": [
    {
     "cell_type": "code",
     "collapsed": false,
     "input": [
      "from pylab import *\n",
      "from numpy import *\n",
      "import math\n",
      "import numpy as np                        "
     ],
     "language": "python",
     "metadata": {},
     "outputs": [],
     "prompt_number": 1
    },
    {
     "cell_type": "code",
     "collapsed": false,
     "input": [
      "def MakeHistoMedian(lyman_filename, histo_filename=\"test_h.dat\", median_filename=\"test_m.dat\"):\n",
      "\n",
      "    datoslyman=np.loadtxt(lyman_filename, comments='#')\n",
      "\n",
      "#print datoslyman[0,:]\n",
      "    initpos=datoslyman[:,0]\n",
      "#    print np.size(initpos)\n",
      "    index_clean = where(~np.isnan(initpos))\n",
      "    datoslyman = datoslyman[index_clean[0],:]\n",
      "\n",
      "    freq = datoslyman[:,6]\n",
      "    scatt = datoslyman[:,7]\n",
      "    n_scatt = datoslyman[:,8]\n",
      "\n",
      "\n",
      "    scatt = np.int_(scatt)\n",
      "    n_scatt = np.int_(n_scatt)\n",
      "\n",
      "    index = np.where(scatt==0)\n",
      "\n",
      "    freq = freq[index]\n",
      "    n_scatt = n_scatt[index]\n",
      "    median_n_scatt = np.median(n_scatt)\n",
      "    avg_n_scatt = np.average(n_scatt)\n",
      "\n",
      "\n",
      "    freqbin = np.arange(np.min(freq), np.max(freq), 0.5)\n",
      "\n",
      "    hist, bin_edges = np.histogram(freq, density=True, bins = freqbin)\n",
      "\n",
      "#    print median_n_scatt, avg_n_scatt, hist, bin_edges\n",
      "\n",
      "    out = open(histo_filename, 'w')\n",
      "    n_points = np.size(hist)\n",
      "\n",
      "    for i in range(n_points):\n",
      "        out.write(\"%f %f\\n\" % (bin_edges[i], hist[i]))\n",
      "    out.close()\n",
      "    out = open(median_filename, 'w')\n",
      "    out.write(\"%f %f\\n\" % (median_n_scatt, avg_n_scatt))\n",
      "    out.close()\n",
      "\n",
      "    return\n",
      "\n",
      "\n",
      "input_path=\"../data/Homogeneous/\"\n",
      "output_path=\"../data/Homogeneous_Histograms/\"\n",
      "file_list = [\"Rotating0Sphere5tHOM.ascii\"]\n",
      "\n",
      "for singlefile in file_list:\n",
      "    lyman_file= input_path+singlefile\n",
      "    histo_file= output_path+\"Histogram\"+singlefile\n",
      "    median_file= output_path+\"MedianAVG\"+singlefile\n",
      "    MakeHistoMedian(lyman_file, histo_filename=histo_file, median_filename=median_file)\n",
      "    print singlefile\n",
      "\n",
      "\n",
      "\n",
      "                                                                                                                                                                                                                                                                                                                                                                                                                                                                  \n",
      "                                     "
     ],
     "language": "python",
     "metadata": {},
     "outputs": [
      {
       "output_type": "stream",
       "stream": "stdout",
       "text": [
        "Rotating0Sphere5tHOM.ascii\n"
       ]
      }
     ],
     "prompt_number": 7
    },
    {
     "cell_type": "code",
     "collapsed": false,
     "input": [],
     "language": "python",
     "metadata": {},
     "outputs": []
    }
   ],
   "metadata": {}
  }
 ]
}