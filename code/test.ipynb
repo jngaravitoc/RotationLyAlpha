{
 "metadata": {
  "name": "test"
 },
 "nbformat": 3,
 "nbformat_minor": 0,
 "worksheets": [
  {
   "cells": [
    {
     "cell_type": "code",
     "collapsed": false,
     "input": [
      "from numpy import *\n",
      "from pylab import *\n",
      "import numpy as np\n",
      "import math\n",
      "import matplotlib.pyplot as plt\n",
      "\n",
      "data_path = \"/home/jeforero/\"\n",
      "data_dir=\"Dropbox/PaperLymanRotation/data/OBSERVADORES/\"\n",
      "filename=\"Rotating300Sphere7t.ascii\"\n",
      "\n",
      "datoslyman = np.loadtxt(data_path+data_dir+filename, comments = '#')\n",
      "\n",
      "initpos=datoslyman[:,0]\n",
      "index_clean = where(~np.isnan(initpos))\n",
      "datoslyman = datoslyman[index_clean[0],:]\n",
      "\n",
      "kx = datoslyman[:,3]\n",
      "ky = datoslyman[:,4]\n",
      "kz = datoslyman[:,5]\n",
      "x = datoslyman[:,6]\n",
      "scatt = datoslyman[:,7]\n",
      "\n",
      "index = np.where(scatt==0)\n",
      "\n",
      "x = x[index]\n",
      "\n",
      "norm = sqrt(kx**2 + ky**2 + kz**2)\n",
      "print kx.shape, ky.shape, kx[:]\n",
      "#plot(norm)\n",
      "print amin(norm), amax(norm)\n",
      "#scatter(kx,ky)\n",
      "    "
     ],
     "language": "python",
     "metadata": {},
     "outputs": [
      {
       "output_type": "stream",
       "stream": "stdout",
       "text": [
        "(99359,) (99359,) [ 0.959885  -0.1702924 -0.6055619 ...,  0.8788902 -0.876188   0.1082001]\n",
        "0.9999999192 1.000000081\n"
       ]
      }
     ],
     "prompt_number": 4
    },
    {
     "cell_type": "code",
     "collapsed": false,
     "input": [
      "theta = pi/2.0\n",
      "o = array([0,sin(theta),cos(theta)])\n",
      "theta = 0.0\n",
      "o2 = array([0,sin(theta),cos(theta)])\n",
      "theta = pi/4.0\n",
      "o3 = array([0, sin(theta), cos(theta)])\n",
      "print o\n",
      "print o2\n",
      "print o3"
     ],
     "language": "python",
     "metadata": {},
     "outputs": [
      {
       "output_type": "stream",
       "stream": "stdout",
       "text": [
        "[  0.00000000e+00   1.00000000e+00   6.12323400e-17]\n",
        "[ 0.  0.  1.]\n",
        "[ 0.          0.70710678  0.70710678]\n"
       ]
      }
     ],
     "prompt_number": 5
    },
    {
     "cell_type": "code",
     "collapsed": false,
     "input": [
      "##producto punto\n",
      "s = abs(kx[:]*o[0]+ky[:]*o[1]+kz[:]*o[2])\n",
      "l = abs(kx[:]+ky[:]+kz[:])\n",
      "print s\n",
      "s2 = abs(kx[:]*o2[0]+ky[:]*o2[1]+kz[:]*o2[2])\n",
      "s3 = abs(kx[:]*o3[0]+ky[:]*o3[1]+kz[:]*o3[2])\n",
      "print s3"
     ],
     "language": "python",
     "metadata": {},
     "outputs": [
      {
       "output_type": "stream",
       "stream": "stdout",
       "text": [
        "[ 0.1573796  0.8905488  0.794212  ...,  0.3441657  0.4181738  0.9373724]\n",
        "[ 0.05280787  0.33144867  0.59710361 ...,  0.47692337  0.12624557\n",
        "  0.89694381]\n"
       ]
      }
     ],
     "prompt_number": 6
    },
    {
     "cell_type": "code",
     "collapsed": false,
     "input": [
      "freqbin = arange(amin(x), amax(x), 1.0)\n",
      "hist, bin_edges = np.histogram(x, density=True, weights=s,bins = freqbin)\n",
      "hist2, bin_edges2 = np.histogram(x, density=True, weights=s2,bins = freqbin)\n",
      "hist3, bin_edges3 = np.histogram(x, density=True, weights=s3,bins = freqbin)"
     ],
     "language": "python",
     "metadata": {},
     "outputs": [],
     "prompt_number": 7
    },
    {
     "cell_type": "code",
     "collapsed": false,
     "input": [
      "p1, = plot(bin_edges[1:],hist)\n",
      "p2, = plot(bin_edges2[1:],hist2)\n",
      "p3, = plot(bin_edges3[1:],hist3)\n",
      "legend([p1, p3, p2], [\"90 Deg\", \"45 Deg\", \"0 Deg\"])\n",
      "plt.xlabel ('X')\n",
      "plt.ylabel ('Y')\n",
      "plt.title(\"Rotating Central Sphere for differents observers\")\n",
      "\n",
      "savefig('Observers.png')\n",
      "\n",
      "plt.show()\n",
      "\n"
     ],
     "language": "python",
     "metadata": {},
     "outputs": [],
     "prompt_number": "*"
    },
    {
     "cell_type": "code",
     "collapsed": false,
     "input": [
      "out = open(\"datos.dat\", 'w')\n",
      "n_points = np.size(hist)\n",
      "\n",
      "for i in range(n_points):\n",
      "    out.write(\"%f %f\\n\" % (hist[i]))\n",
      "out.close()\n",
      "    \n",
      "       "
     ],
     "language": "python",
     "metadata": {},
     "outputs": [],
     "prompt_number": "*"
    },
    {
     "cell_type": "code",
     "collapsed": false,
     "input": [],
     "language": "python",
     "metadata": {},
     "outputs": []
    }
   ],
   "metadata": {}
  }
 ]
}